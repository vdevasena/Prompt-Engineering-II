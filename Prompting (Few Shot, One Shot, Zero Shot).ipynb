{
  "nbformat": 4,
  "nbformat_minor": 0,
  "metadata": {
    "colab": {
      "provenance": []
    },
    "kernelspec": {
      "name": "python3",
      "display_name": "Python 3"
    },
    "language_info": {
      "name": "python"
    }
  },
  "cells": [
    {
      "cell_type": "code",
      "execution_count": 1,
      "metadata": {
        "colab": {
          "base_uri": "https://localhost:8080/"
        },
        "id": "jMEK2TMsJRpX",
        "outputId": "2f1c4d20-f42f-406b-c1a5-6a09cc4628d8"
      },
      "outputs": [
        {
          "output_type": "stream",
          "name": "stdout",
          "text": [
            "\u001b[?25l   \u001b[90m━━━━━━━━━━━━━━━━━━━━━━━━━━━━━━━━━━━━━━━━\u001b[0m \u001b[32m0.0/374.1 kB\u001b[0m \u001b[31m?\u001b[0m eta \u001b[36m-:--:--\u001b[0m\r\u001b[2K   \u001b[90m━━━━━━━━━━━━━━━━━━━━━━━━━━━━━━━━━━━━━━━━\u001b[0m \u001b[32m374.1/374.1 kB\u001b[0m \u001b[31m11.1 MB/s\u001b[0m eta \u001b[36m0:00:00\u001b[0m\n",
            "\u001b[?25h\u001b[?25l   \u001b[90m━━━━━━━━━━━━━━━━━━━━━━━━━━━━━━━━━━━━━━━━\u001b[0m \u001b[32m0.0/76.4 kB\u001b[0m \u001b[31m?\u001b[0m eta \u001b[36m-:--:--\u001b[0m\r\u001b[2K   \u001b[90m━━━━━━━━━━━━━━━━━━━━━━━━━━━━━━━━━━━━━━━━\u001b[0m \u001b[32m76.4/76.4 kB\u001b[0m \u001b[31m4.3 MB/s\u001b[0m eta \u001b[36m0:00:00\u001b[0m\n",
            "\u001b[2K   \u001b[90m━━━━━━━━━━━━━━━━━━━━━━━━━━━━━━━━━━━━━━━━\u001b[0m \u001b[32m77.9/77.9 kB\u001b[0m \u001b[31m3.3 MB/s\u001b[0m eta \u001b[36m0:00:00\u001b[0m\n",
            "\u001b[2K   \u001b[90m━━━━━━━━━━━━━━━━━━━━━━━━━━━━━━━━━━━━━━━━\u001b[0m \u001b[32m318.9/318.9 kB\u001b[0m \u001b[31m8.6 MB/s\u001b[0m eta \u001b[36m0:00:00\u001b[0m\n",
            "\u001b[2K   \u001b[90m━━━━━━━━━━━━━━━━━━━━━━━━━━━━━━━━━━━━━━━━\u001b[0m \u001b[32m58.3/58.3 kB\u001b[0m \u001b[31m2.4 MB/s\u001b[0m eta \u001b[36m0:00:00\u001b[0m\n",
            "\u001b[?25h"
          ]
        }
      ],
      "source": [
        "!pip install openai -q"
      ]
    },
    {
      "cell_type": "code",
      "source": [
        "import openai\n",
        "import os\n",
        "\n",
        "# Set the API key\n",
        "openai.api_key = \"open-api-key\"\n",
        "if openai.api_key is None:\n",
        "  raise ValueError(\"OpenAI API key not found in environment variables.\")"
      ],
      "metadata": {
        "id": "693NXb1vNByy"
      },
      "execution_count": null,
      "outputs": []
    },
    {
      "cell_type": "code",
      "source": [
        "import openai\n",
        "\n",
        "\n",
        "openai.api_key = \"\" # Assign the API key directly to openai.api_key\n",
        "if openai.api_key is None:\n",
        "  raise ValueError(\"OpenAI API key not found in environment variables.\")"
      ],
      "metadata": {
        "id": "5y0yZfXlJvp4"
      },
      "execution_count": 19,
      "outputs": []
    },
    {
      "cell_type": "code",
      "source": [
        "#define a function, model = gpt-3.5-turbo\n",
        "def get_response(messages, model = 'gpt-3.5-turbo'):\n",
        "  response = openai.chat.completions.create(model = model, messages = messages)\n",
        "  return response.choices[0].message.content"
      ],
      "metadata": {
        "id": "0b-TRPieJVUm"
      },
      "execution_count": 16,
      "outputs": []
    },
    {
      "cell_type": "code",
      "source": [
        "first_question = '''A 21-year-old sexually active male complains of fever, pain during urination, and inflammation and pain in the right knee.\n",
        "A culture of the joint fluid shows a bacteria that does not ferment maltose and has no polysaccharide capsule.\n",
        "The physician orders antibiotic therapy for the patient. The mechanism of action of action of the medication given blocks cell wall synthesis, which of the following was given?\n",
        "(A)Gentamicin\n",
        "(B)Ciprofloxacin\n",
        "(C)Ceftriaxone\n",
        "(D)Trimethoprim'''"
      ],
      "metadata": {
        "id": "frx46mKUJuZ2"
      },
      "execution_count": 4,
      "outputs": []
    },
    {
      "cell_type": "code",
      "source": [
        "first_question_answer = 'C'"
      ],
      "metadata": {
        "id": "yAQ7fixkJuWV"
      },
      "execution_count": 5,
      "outputs": []
    },
    {
      "cell_type": "code",
      "source": [
        "second_question = '''A 5-year-old girl is brought to the emergency department by her mother because of multiple episodes of nausea and vomiting that last about 2 hours. During this period, she has had 6–8 episodes of bilious vomiting and abdominal pain. The vomiting was preceded by fatigue. The girl feels well between these episodes. She has missed several days of school and has been hospitalized 2 times during the past 6 months for dehydration due to similar episodes of vomiting and nausea. The patient has lived with her mother since her parents divorced 8 months ago. Her immunizations are up-to-date. She is at the 60th percentile for height and 30th percentile for weight. She appears emaciated. Her temperature is 36.8°C (98.8°F), pulse is 99/min, and blood pressure is 82/52 mm Hg. Examination shows dry mucous membranes. The lungs are clear to auscultation. Abdominal examination shows a soft abdomen with mild diffuse tenderness with no guarding or rebound. The remainder of the physical examination shows no abnormalities. Which of the following is the most likely diagnosis?\n",
        "(A)Cyclic vomiting syndrome\n",
        "(B)Gastroenteritis\n",
        "(C)Hypertrophic pyloric stenosis\n",
        "(D)Gastroesophageal reflux disease'''"
      ],
      "metadata": {
        "id": "xGX-_WTgKfZd"
      },
      "execution_count": 6,
      "outputs": []
    },
    {
      "cell_type": "code",
      "source": [
        "second_question_answer = 'A'"
      ],
      "metadata": {
        "id": "wCr4ZchOKfWM"
      },
      "execution_count": 8,
      "outputs": []
    },
    {
      "cell_type": "code",
      "source": [
        "third_question = '''A 37-year-old-woman presents to her primary care physician requesting a new form of birth control. She has been utilizing oral contraceptive pills (OCPs) for the past 8 years, but asks to switch to an intrauterine device (IUD). Her vital signs are: blood pressure 118/78 mm Hg, pulse 73/min and respiratory rate 16/min. She is afebrile. Physical examination is within normal limits. Which of the following past medical history statements would make copper IUD placement contraindicated in this patient?\n",
        "(A)A history of stroke or venous thromboembolism\n",
        "(B)Active or recurrent pelvic inflammatory disease (PID)\n",
        "(C)Past medical history of breast cancer\n",
        "(D)Known liver neoplasm\n",
        "'''"
      ],
      "metadata": {
        "id": "jv4eekAKKfTs"
      },
      "execution_count": 7,
      "outputs": []
    },
    {
      "cell_type": "code",
      "source": [
        "third_question_answer = 'B'"
      ],
      "metadata": {
        "id": "qlVbevojKfRM"
      },
      "execution_count": 9,
      "outputs": []
    },
    {
      "cell_type": "code",
      "source": [
        "fourth_question = '''A  67-year-old man with transitional cell carcinoma of the bladder comes to the physician because of a 2-day history of ringing sensation in his ear. He received this first course of neoadjuvant chemotherapy 1 week ago. Pure tone audiometry shows a sensorineural hearing loss of 45 dB. The expected beneficial effect of the drug that caused this patient's symptoms is most likely due to which of the following actions?\n",
        "(A)Inhibition of thymidine synthesis\n",
        "(B)Inhibition of proteasome\n",
        "(C)Hyperstabilization of microtubules\n",
        "(D)Generation of free radicals\n",
        "(E)Cross-linking of DNA\n",
        "'''"
      ],
      "metadata": {
        "id": "56t-4c5CKfOn"
      },
      "execution_count": 10,
      "outputs": []
    },
    {
      "cell_type": "code",
      "source": [
        "#fourth_question_answer = 'E'"
      ],
      "metadata": {
        "id": "LX_qOALmKfL-"
      },
      "execution_count": null,
      "outputs": []
    },
    {
      "cell_type": "code",
      "source": [
        "system_role = \"You are a helpful assistant that answers multiple choice questions about medical knowledge\""
      ],
      "metadata": {
        "id": "L5uSiEmUL79L"
      },
      "execution_count": 11,
      "outputs": []
    },
    {
      "cell_type": "markdown",
      "source": [
        "#Few Shot Prompting"
      ],
      "metadata": {
        "id": "MkMEPqjmL3JD"
      }
    },
    {
      "cell_type": "code",
      "source": [
        "user_prompt = f'''Question:{first_question}\n",
        "Answer:{first_question_answer}\n",
        "Question:{second_question}\n",
        "Answer:{second_question_answer}\n",
        "Question:{third_question}\n",
        "Answer:{third_question_answer}\n",
        "Question:{fourth_question}\n",
        "Answer:\n",
        "'''"
      ],
      "metadata": {
        "id": "AW4Jp73YKfJW"
      },
      "execution_count": 12,
      "outputs": []
    },
    {
      "cell_type": "code",
      "source": [
        "messages = [{'role':'system','content':system_role},{'role':'user','content':user_prompt}]"
      ],
      "metadata": {
        "id": "AVTN2572MPnO"
      },
      "execution_count": 13,
      "outputs": []
    },
    {
      "cell_type": "code",
      "source": [
        "print(get_response(messages))"
      ],
      "metadata": {
        "colab": {
          "base_uri": "https://localhost:8080/"
        },
        "id": "_OOX1KcdMfij",
        "outputId": "6dff3240-6dc5-4f7d-9591-f68b43b3f1bc"
      },
      "execution_count": 20,
      "outputs": [
        {
          "output_type": "stream",
          "name": "stdout",
          "text": [
            "The correct answer is E) Cross-linking of DNA\n"
          ]
        }
      ]
    },
    {
      "cell_type": "markdown",
      "source": [
        "# One shot Prompting"
      ],
      "metadata": {
        "id": "BPVZBTHQNOd8"
      }
    },
    {
      "cell_type": "code",
      "source": [
        "user_prompt = f'''Question:{first_question}\n",
        "Answer:{first_question_answer}\n",
        "\n",
        "Question:{fourth_question}\n",
        "Answer:\n",
        "'''"
      ],
      "metadata": {
        "id": "XAeF3bBMNRKe"
      },
      "execution_count": 21,
      "outputs": []
    },
    {
      "cell_type": "code",
      "source": [
        "messages = [{'role':'system','content':system_role},{'role':'user','content':user_prompt}]"
      ],
      "metadata": {
        "id": "b3Y6vpIvNRQM"
      },
      "execution_count": 22,
      "outputs": []
    },
    {
      "cell_type": "code",
      "source": [
        "print(get_response(messages))"
      ],
      "metadata": {
        "colab": {
          "base_uri": "https://localhost:8080/"
        },
        "id": "Z5r8F0WbNSFd",
        "outputId": "fb9fb430-d72d-4b5a-c93a-167e28df52da"
      },
      "execution_count": 23,
      "outputs": [
        {
          "output_type": "stream",
          "name": "stdout",
          "text": [
            "(E) Cross-linking of DNA\n"
          ]
        }
      ]
    },
    {
      "cell_type": "markdown",
      "source": [
        "# Zero Shot Prompting"
      ],
      "metadata": {
        "id": "vdp0MPQhNYfv"
      }
    },
    {
      "cell_type": "code",
      "source": [
        "user_prompt = f'''Question:{first_question}\n",
        "Answer:\n",
        "'''"
      ],
      "metadata": {
        "id": "4hpljvQVNSCZ"
      },
      "execution_count": 27,
      "outputs": []
    },
    {
      "cell_type": "code",
      "source": [
        "messages = [{'role':'system','content':system_role},{'role':'user','content':user_prompt}]"
      ],
      "metadata": {
        "id": "NemDc0HpNR_u"
      },
      "execution_count": 28,
      "outputs": []
    },
    {
      "cell_type": "code",
      "source": [
        "print(get_response(messages))"
      ],
      "metadata": {
        "colab": {
          "base_uri": "https://localhost:8080/"
        },
        "id": "I5aUkuOONR9N",
        "outputId": "a71fd8cb-0ef6-40cc-d0e5-43776e737b2a"
      },
      "execution_count": 29,
      "outputs": [
        {
          "output_type": "stream",
          "name": "stdout",
          "text": [
            "(C) Ceftriaxone\n",
            "\n",
            "Explanation:\n",
            "Ceftriaxone is a cephalosporin antibiotic that inhibits bacterial cell wall synthesis, making it an effective treatment for infections caused by bacteria such as Neisseria gonorrhoeae, which is known to cause gonococcal arthritis. It is important to start treatment promptly to prevent complications of the infection.\n"
          ]
        }
      ]
    },
    {
      "cell_type": "code",
      "source": [
        "#Seems like Zero Shot Prompting didnot give the correct results for the question 4"
      ],
      "metadata": {
        "id": "tj6gcgZJNk3Q"
      },
      "execution_count": null,
      "outputs": []
    },
    {
      "cell_type": "code",
      "source": [
        "#Seems like Zero Shot Prompting gave the correct results for the question 1"
      ],
      "metadata": {
        "id": "3qau5v5xNyRF"
      },
      "execution_count": null,
      "outputs": []
    }
  ]
}